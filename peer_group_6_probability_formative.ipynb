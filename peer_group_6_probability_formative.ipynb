{
 "cells": [
  {
   "cell_type": "markdown",
   "metadata": {},
   "source": [
    "Kyrie Irving, the star player for the Mavericks, is making 52% of his three-point shots this season. If he attempts 10 three-pointers in a game, what is the probability distribution of the number of successful shots he makes?"
   ]
  },
  {
   "cell_type": "code",
   "execution_count": null,
   "metadata": {
    "vscode": {
     "languageId": "plaintext"
    }
   },
   "outputs": [],
   "source": [
    "import numpy as np\n",
    "import matplotlib.pyplot as plt\n",
    "\n",
    "# Define parameters\n",
    "n = 10  # Number of trials (three-pointers attempted)\n",
    "p = 0.52  # Probability of success (making a 3-pointer)\n",
    "\n",
    "# Function to calculate combinations (n choose k)\n",
    "def combination(n, k):\n",
    "    return np.math.factorial(n) / (np.math.factorial(k) * np.math.factorial(n - k))\n",
    "\n",
    "# Function to calculate binomial probability for a specific k\n",
    "def binomial_probability(n, k, p):\n",
    "    comb = combination(n, k)\n",
    "    return comb * (p ** k) * ((1 - p) ** (n - k))\n",
    "\n",
    "# Generate possible values of k (0 to 10 successful shots)\n",
    "k_values = np.arange(0, n + 1)\n",
    "\n",
    "# Calculate Binomial probabilities using the binomial_probability function\n",
    "binomial_probs = [binomial_probability(n, k, p) for k in k_values]\n",
    "\n",
    "# Print probabilities in a table format\n",
    "print(\"Number of Successful 3-Pointers | Probability\")\n",
    "print(\"--------------------------------|------------\")\n",
    "for k, prob in zip(k_values, binomial_probs):\n",
    "    print(f\"{k:^30} | {prob:.4f}\")\n",
    "\n",
    "# Plot the probability distribution\n",
    "plt.bar(k_values, binomial_probs, color='blue', alpha=0.6)\n",
    "plt.xlabel('Number of Successful 3-Pointers')\n",
    "plt.ylabel('Probability')\n",
    "plt.title('Binomial Distribution: Kyrie Irving 3-Point Shooting')\n",
    "plt.xticks(k_values)\n",
    "plt.show()"
   ]
  },
  {
   "cell_type": "markdown",
   "metadata": {},
   "source": [
    "\n",
    "Q1:How does the distribution you were allocated vary from the other three you were not allocated:\n",
    "\n",
    "1.binomial distribution is discrete(counts success in fixed trials) but normal distribution is continuous, measures things like height , weight\n",
    "\n",
    "2.poisson distribution is counts over time or space for example number of made shots per quarter while binomial deals with a fixed number of trials like 10 shots in our question\n",
    "\n",
    "3.exponential models the time until an event happens for example how long before kyrie makes his first 3 pointer in a game ,while binomial tracks how many success happens in set number of attempts\n"
   ]
  },
  {
   "cell_type": "markdown",
   "metadata": {},
   "source": [
    "Q2:Would the question you chose be used in the context of a different distribution?\n",
    "\n",
    " No, the question we chose, How many 3-pointers does Kyrie make in 10 attempts?, is specific to Binomial and would not be used in other distributions in its current form.\n",
    "The question involves a fixed number of trials (10 attempts) and is looking at successes (made shots) and failures (missed shots). This fits the Binomial Distribution perfectly.\n"
   ]
  }
 ],
 "metadata": {
  "language_info": {
   "name": "python"
  }
 },
 "nbformat": 4,
 "nbformat_minor": 2
}
