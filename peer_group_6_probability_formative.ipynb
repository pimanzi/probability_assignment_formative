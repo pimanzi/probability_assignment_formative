{
 "cells": [
  {
   "cell_type": "markdown",
   "metadata": {},
   "source": [
    "Kyrie Irving, the star player for the Mavericks, is making 52% of his three-point shots this season. If he attempts 10 three-pointers in a game, what is the probability distribution of the number of successful shots he makes?"
   ]
  },
  {
   "cell_type": "code",
   "execution_count": null,
   "metadata": {
    "vscode": {
     "languageId": "plaintext"
    }
   },
   "outputs": [],
   "source": [
    "import numpy as np\n",
    "import matplotlib.pyplot as plt\n",
    "\n",
    "# Define parameters\n",
    "n = 10  # Number of trials (three-pointers attempted)\n",
    "p = 0.52  # Probability of success (making a 3-pointer)\n",
    "\n",
    "# Function to calculate combinations (n choose k)\n",
    "def combination(n, k):\n",
    "    return np.math.factorial(n) / (np.math.factorial(k) * np.math.factorial(n - k))\n",
    "\n",
    "# Function to calculate binomial probability for a specific k\n",
    "def binomial_probability(n, k, p):\n",
    "    comb = combination(n, k)\n",
    "    return comb * (p ** k) * ((1 - p) ** (n - k))\n",
    "\n",
    "# Generate possible values of k (0 to 10 successful shots)\n",
    "k_values = np.arange(0, n + 1)\n",
    "\n",
    "# Calculate Binomial probabilities using the binomial_probability function\n",
    "binomial_probs = [binomial_probability(n, k, p) for k in k_values]\n",
    "\n",
    "# Print probabilities in a table format\n",
    "print(\"Number of Successful 3-Pointers | Probability\")\n",
    "print(\"--------------------------------|------------\")\n",
    "for k, prob in zip(k_values, binomial_probs):\n",
    "    print(f\"{k:^30} | {prob:.4f}\")\n",
    "\n",
    "# Plot the probability distribution\n",
    "plt.bar(k_values, binomial_probs, color='blue', alpha=0.6)\n",
    "plt.xlabel('Number of Successful 3-Pointers')\n",
    "plt.ylabel('Probability')\n",
    "plt.title('Binomial Distribution: Kyrie Irving 3-Point Shooting')\n",
    "plt.xticks(k_values)\n",
    "plt.show()"
   ]
  }
 ],
 "metadata": {
  "language_info": {
   "name": "python"
  }
 },
 "nbformat": 4,
 "nbformat_minor": 2
}
